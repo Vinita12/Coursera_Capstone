{
  "nbformat": 4,
  "nbformat_minor": 0,
  "metadata": {
    "colab": {
      "name": "Accident severnity.ipynb",
      "provenance": []
    },
    "kernelspec": {
      "name": "python3",
      "display_name": "Python 3"
    }
  },
  "cells": [
    {
      "cell_type": "code",
      "metadata": {
        "id": "ODeeSzsEUz4G",
        "colab_type": "code",
        "colab": {}
      },
      "source": [
        "\n"
      ],
      "execution_count": 13,
      "outputs": []
    },
    {
      "cell_type": "markdown",
      "metadata": {
        "id": "Nz97YxIyzi_M",
        "colab_type": "text"
      },
      "source": [
        "## UK Road Safety: Traffic Accidents and Vehicles\n",
        "Vinita Verma\n",
        "30 Aug, 2020\n"
      ]
    },
    {
      "cell_type": "markdown",
      "metadata": {
        "id": "0SpHIBgNzhSP",
        "colab_type": "text"
      },
      "source": [
        "### Applied Data Science Capstone By IBM/Coursera"
      ]
    },
    {
      "cell_type": "markdown",
      "metadata": {
        "id": "frVJrSwUz94B",
        "colab_type": "text"
      },
      "source": [
        "## Table Of Contents \n",
        "* [Introduction : Business Problem](#introduction)\n",
        "* [Data](#data)\n",
        "* [Methodology](#methodoloy)\n",
        "* [Analysis](#analysis)\n",
        "* [Results](#results)\n",
        "* [Conclusion](#conclusion)"
      ]
    },
    {
      "cell_type": "markdown",
      "metadata": {
        "id": "1_6tz6I91Dfw",
        "colab_type": "text"
      },
      "source": [
        "## Business Problem"
      ]
    },
    {
      "cell_type": "markdown",
      "metadata": {
        "id": "bqOAvkyr1KPP",
        "colab_type": "text"
      },
      "source": [
        "In an effort to reduce the frequency of car collisions in a community, an algorithim must be developed to predict the severity of an accident given the current weather, road and visibility conditions. When conditions are bad, this model will alert drivers to remind them to be more careful."
      ]
    },
    {
      "cell_type": "code",
      "metadata": {
        "id": "E-FG1EMpzdlb",
        "colab_type": "code",
        "colab": {}
      },
      "source": [
        "import numpy as np\n",
        "import pandas as pd"
      ],
      "execution_count": null,
      "outputs": []
    },
    {
      "cell_type": "code",
      "metadata": {
        "id": "foSEKMEDXvUQ",
        "colab_type": "code",
        "colab": {}
      },
      "source": [
        "import warnings\n",
        "\n",
        "def fxn():\n",
        "    warnings.warn(\"deprecated\", DeprecationWarning)\n",
        "\n",
        "with warnings.catch_warnings():\n",
        "    warnings.simplefilter(\"ignore\")\n",
        "    fxn()\n",
        "    \n",
        "import warnings\n",
        "warnings.filterwarnings(\"ignore\")"
      ],
      "execution_count": null,
      "outputs": []
    },
    {
      "cell_type": "code",
      "metadata": {
        "id": "vXjBTXjPX4ZB",
        "colab_type": "code",
        "colab": {}
      },
      "source": [
        "#RESAMPLING\n",
        "\n",
        "import matplotlib.pyplot as plt   \n",
        "from pydotplus import graph_from_dot_data\n",
        "from IPython.display import Image  \n",
        "import seaborn as sns\n",
        "from IPython.display import HTML, display\n",
        "import tabulate\n",
        "from imblearn import under_sampling, over_sampling\n",
        "from imblearn.over_sampling import SMOTE\n",
        "from imblearn.under_sampling import RandomUnderSampler\n"
      ],
      "execution_count": null,
      "outputs": []
    },
    {
      "cell_type": "code",
      "metadata": {
        "id": "LhigBof2YBGJ",
        "colab_type": "code",
        "colab": {}
      },
      "source": [
        "from sklearn.preprocessing import StandardScaler\n",
        "from sklearn.decomposition import PCA\n",
        "from sklearn.model_selection import KFold\n",
        "from sklearn.model_selection import cross_val_score"
      ],
      "execution_count": null,
      "outputs": []
    },
    {
      "cell_type": "code",
      "metadata": {
        "id": "4efWlhK9YRMT",
        "colab_type": "code",
        "colab": {}
      },
      "source": [
        "from sklearn.tree import DecisionTreeClassifier \n",
        "from sklearn.tree import export_graphviz\n",
        "from sklearn.ensemble import RandomForestRegressor\n",
        "from tensorflow.keras.models import Sequential\n",
        "from tensorflow.keras.layers import Dense\n",
        "from tensorflow.keras.wrappers.scikit_learn import KerasClassifier\n",
        "from tensorflow.python.keras import utils\n",
        "from sklearn.preprocessing import LabelEncoder\n",
        "from sklearn.neighbors import KNeighborsClassifier"
      ],
      "execution_count": null,
      "outputs": []
    },
    {
      "cell_type": "code",
      "metadata": {
        "id": "OuBBif9BYa3s",
        "colab_type": "code",
        "colab": {}
      },
      "source": [
        "from sklearn.linear_model import LogisticRegression"
      ],
      "execution_count": null,
      "outputs": []
    },
    {
      "cell_type": "markdown",
      "metadata": {
        "id": "zTa2e7qDYnvv",
        "colab_type": "text"
      },
      "source": [
        "## Data preprocessing"
      ]
    },
    {
      "cell_type": "code",
      "metadata": {
        "id": "Fxh6ErO9l9jQ",
        "colab_type": "code",
        "colab": {}
      },
      "source": [
        "df = pd.read_csv('Accident_Information.csv', sep=',')"
      ],
      "execution_count": 15,
      "outputs": []
    },
    {
      "cell_type": "code",
      "metadata": {
        "id": "1Agrte3flN9G",
        "colab_type": "code",
        "colab": {
          "base_uri": "https://localhost:8080/",
          "height": 255
        },
        "outputId": "4e3755b2-1b96-4b0f-be0b-47efc9da47e0"
      },
      "source": [
        "print(df)"
      ],
      "execution_count": 16,
      "outputs": [
        {
          "output_type": "stream",
          "text": [
            "       Accident_Index 1st_Road_Class  ...    Year InScotland\n",
            "0       200501BS00001              A  ...  2005.0         No\n",
            "1       200501BS00002              B  ...  2005.0         No\n",
            "2       200501BS00003              C  ...  2005.0         No\n",
            "3       200501BS00004              A  ...  2005.0         No\n",
            "4       200501BS00005   Unclassified  ...  2005.0         No\n",
            "...               ...            ...  ...     ...        ...\n",
            "121427  20054100C0339   Unclassified  ...  2005.0         No\n",
            "121428  20054100C0340   Unclassified  ...  2005.0         No\n",
            "121429  20054100C0341              A  ...  2005.0         No\n",
            "121430  20054100C0342   Unclassified  ...  2005.0         No\n",
            "121431  20054100C0343   Unclassified  ...     NaN        NaN\n",
            "\n",
            "[121432 rows x 34 columns]\n"
          ],
          "name": "stdout"
        }
      ]
    },
    {
      "cell_type": "code",
      "metadata": {
        "id": "nTbqOezPm8yH",
        "colab_type": "code",
        "colab": {
          "base_uri": "https://localhost:8080/",
          "height": 68
        },
        "outputId": "eaa4cf45-7b29-48fd-e2a5-8b0624e4cb31"
      },
      "source": [
        "encoding = {\n",
        "\"Carriageway_Hazards\": {\"None\": 0, \"Other object on road\": 1, \"Any animal in carriageway (except ridden horse)\": 1,  \"Pedestrian in carriageway - not injured\": 1, \"Previous accident\": 1, \"Vehicle load on road\": 1,  \"Data missing or out of range\": 0  }\n",
        "}\n",
        "df.replace(encoding, inplace=True)\n",
        "print(df['Carriageway_Hazards'].value_counts())"
      ],
      "execution_count": 17,
      "outputs": [
        {
          "output_type": "stream",
          "text": [
            "0    119407\n",
            "1      2025\n",
            "Name: Carriageway_Hazards, dtype: int64\n"
          ],
          "name": "stdout"
        }
      ]
    },
    {
      "cell_type": "code",
      "metadata": {
        "id": "4D7PQiNUnDy8",
        "colab_type": "code",
        "colab": {
          "base_uri": "https://localhost:8080/",
          "height": 170
        },
        "outputId": "fc2ce46f-0c0d-49e2-a007-430af29d070a"
      },
      "source": [
        "print(df['Light_Conditions'].value_counts())\n",
        "encoding_light = {\"Light_Conditions\": {\"Daylight\": 0, \"Darkness - lights lit\": 1, \"Darkness - no lighting\": 1, \"Darkness - lighting unknown\": 1, \"Darkness - lights unlit\": 1, \"Data missing or out of range\": 0}}\n",
        "df.replace(encoding_light, inplace=True)\n",
        "print(df['Light_Conditions'].value_counts())"
      ],
      "execution_count": 18,
      "outputs": [
        {
          "output_type": "stream",
          "text": [
            "Daylight                       87573\n",
            "Darkness - lights lit          27239\n",
            "Darkness - no lighting          5412\n",
            "Darkness - lighting unknown      744\n",
            "Darkness - lights unlit          464\n",
            "Name: Light_Conditions, dtype: int64\n",
            "0    87573\n",
            "1    33859\n",
            "Name: Light_Conditions, dtype: int64\n"
          ],
          "name": "stdout"
        }
      ]
    },
    {
      "cell_type": "code",
      "metadata": {
        "id": "KlMdo8U4nIzw",
        "colab_type": "code",
        "colab": {
          "base_uri": "https://localhost:8080/",
          "height": 204
        },
        "outputId": "b4dfdc31-e031-410b-aa4b-652445232506"
      },
      "source": [
        "print(df['Day_of_Week'].value_counts())\n",
        "encoding_day_of_week = {\"Day_of_Week\": {\"Saturday\": 1, \"Sunday\": 1, \"Monday\": 0, \"Tuesday\": 0, \"Wednesday\": 0, \"Thursday\": 0, \"Friday\": 0}}\n",
        "df.replace(encoding_day_of_week, inplace=True)\n",
        "print(df['Day_of_Week'].value_counts())"
      ],
      "execution_count": 19,
      "outputs": [
        {
          "output_type": "stream",
          "text": [
            "Friday       19987\n",
            "Wednesday    18473\n",
            "Thursday     18005\n",
            "Tuesday      17847\n",
            "Monday       17111\n",
            "Saturday     16553\n",
            "Sunday       13456\n",
            "Name: Day_of_Week, dtype: int64\n",
            "0    91423\n",
            "1    30009\n",
            "Name: Day_of_Week, dtype: int64\n"
          ],
          "name": "stdout"
        }
      ]
    },
    {
      "cell_type": "code",
      "metadata": {
        "id": "Zh6h5xuDnO-E",
        "colab_type": "code",
        "colab": {
          "base_uri": "https://localhost:8080/",
          "height": 238
        },
        "outputId": "e91c877f-c3ea-4c5d-eb66-467d491195f4"
      },
      "source": [
        "print(df['Special_Conditions_at_Site'].value_counts())\n",
        "encoding_Special_Conditions_at_Site = {\"Special_Conditions_at_Site\": {\"None\": 0, \"Roadworks\": 1, \"Oil or diesel\": 1, \"Mud\": 1, \"Road surface defective\": 1, \"Auto traffic signal - out\": 1, \"Road sign or marking defective or obscured\": 1, \"Auto signal part defective\": 1, \"Data missing or out of range\": 0}}\n",
        "df.replace(encoding_Special_Conditions_at_Site, inplace=True)\n",
        "print(df['Special_Conditions_at_Site'].value_counts())"
      ],
      "execution_count": 20,
      "outputs": [
        {
          "output_type": "stream",
          "text": [
            "None                                          118572\n",
            "Roadworks                                       1357\n",
            "Oil or diesel                                    455\n",
            "Mud                                              343\n",
            "Road surface defective                           229\n",
            "Road sign or marking defective or obscured       225\n",
            "Auto traffic signal - out                        180\n",
            "Auto signal part defective                        62\n",
            "Data missing or out of range                       8\n",
            "Name: Special_Conditions_at_Site, dtype: int64\n",
            "0.0    118580\n",
            "1.0      2851\n",
            "Name: Special_Conditions_at_Site, dtype: int64\n"
          ],
          "name": "stdout"
        }
      ]
    },
    {
      "cell_type": "code",
      "metadata": {
        "id": "DjWlbfNlnVd7",
        "colab_type": "code",
        "colab": {
          "base_uri": "https://localhost:8080/",
          "height": 102
        },
        "outputId": "57c4c3b5-0b67-4a66-d166-35209da51a69"
      },
      "source": [
        "encoding_1st_road_class = {\"1st_Road_Class\": {\"A\": 1, \"A(M)\": 1, \"B\": 2, \"C\": 3, \"Motorway\": 4, \"Unclassified\": 1}}\n",
        "df.replace(encoding_1st_road_class, inplace=True)\n",
        "df['1st_Road_Class'].value_counts()"
      ],
      "execution_count": 21,
      "outputs": [
        {
          "output_type": "execute_result",
          "data": {
            "text/plain": [
              "1    90296\n",
              "2    14433\n",
              "3    12766\n",
              "4     3937\n",
              "Name: 1st_Road_Class, dtype: int64"
            ]
          },
          "metadata": {
            "tags": []
          },
          "execution_count": 21
        }
      ]
    },
    {
      "cell_type": "code",
      "metadata": {
        "id": "GADxtsHunb8S",
        "colab_type": "code",
        "colab": {}
      },
      "source": [
        "#replacing 'Data missing or out of range' with most occured value 'Give way or uncontrolled'\n",
        "df['Junction_Control'] = df['Junction_Control'].replace(['Data missing or out of range'], 'Give way or uncontrolled')"
      ],
      "execution_count": 22,
      "outputs": []
    },
    {
      "cell_type": "code",
      "metadata": {
        "id": "mQEytC7AniPA",
        "colab_type": "code",
        "colab": {
          "base_uri": "https://localhost:8080/",
          "height": 119
        },
        "outputId": "3c0e2d3e-2c70-47c2-9360-d60fcf4bafab"
      },
      "source": [
        "df['Junction_Control'].value_counts()"
      ],
      "execution_count": 23,
      "outputs": [
        {
          "output_type": "execute_result",
          "data": {
            "text/plain": [
              "Give way or uncontrolled               105422\n",
              "Auto traffic signal                     14389\n",
              "Stop sign                                 864\n",
              "Not at junction or within 20 metres       565\n",
              "Authorised person                         192\n",
              "Name: Junction_Control, dtype: int64"
            ]
          },
          "metadata": {
            "tags": []
          },
          "execution_count": 23
        }
      ]
    },
    {
      "cell_type": "code",
      "metadata": {
        "id": "b4Wmb1PbnmBO",
        "colab_type": "code",
        "colab": {
          "base_uri": "https://localhost:8080/",
          "height": 119
        },
        "outputId": "d3084061-5574-417e-d08f-5471f4ff786c"
      },
      "source": [
        "encoding_junction_detail = {\"Junction_Control\": \n",
        "                            {\"Give way or uncontrolled\": 1,\n",
        "                             \"Auto traffic signal\": 2,\n",
        "                             \"Not at junction or within 20 metres\": 3, \n",
        "                             \"Stop sign\": 4,\n",
        "                             \"Authorised person\": 5,\n",
        "                              }}\n",
        "df.replace(encoding_junction_detail, inplace=True)\n",
        "df['Junction_Control'].value_counts()"
      ],
      "execution_count": 24,
      "outputs": [
        {
          "output_type": "execute_result",
          "data": {
            "text/plain": [
              "1    105422\n",
              "2     14389\n",
              "4       864\n",
              "3       565\n",
              "5       192\n",
              "Name: Junction_Control, dtype: int64"
            ]
          },
          "metadata": {
            "tags": []
          },
          "execution_count": 24
        }
      ]
    },
    {
      "cell_type": "code",
      "metadata": {
        "id": "D5A5EhBmntrQ",
        "colab_type": "code",
        "colab": {
          "base_uri": "https://localhost:8080/",
          "height": 187
        },
        "outputId": "2681f393-ddf3-4729-e063-4e6648a17ebb"
      },
      "source": [
        "encoding_junction_detail = {\"Junction_Detail\": \n",
        "                            {\"Not at junction or within 20 metres\": 1,\n",
        "                             \"T or staggered junction\": 2,\n",
        "                             \"Crossroads\": 3, \n",
        "                             \"Roundabout\": 4,\n",
        "                             \"Private drive or entrance\": 5,\n",
        "                             \"Other junction\": 6,\n",
        "                             \"Slip road\": 7,\n",
        "                             \"More than 4 arms (not roundabout)\": 8,\n",
        "                             \"Mini-roundabout\": 9,\n",
        "                             \"Data missing or out of range\": 1 }}\n",
        "df.replace(encoding_junction_detail, inplace=True)\n",
        "df['Junction_Detail'].value_counts()"
      ],
      "execution_count": 25,
      "outputs": [
        {
          "output_type": "execute_result",
          "data": {
            "text/plain": [
              "1    44976\n",
              "2    40510\n",
              "3    13682\n",
              "4     9283\n",
              "5     4499\n",
              "6     3856\n",
              "8     1904\n",
              "7     1599\n",
              "9     1123\n",
              "Name: Junction_Detail, dtype: int64"
            ]
          },
          "metadata": {
            "tags": []
          },
          "execution_count": 25
        }
      ]
    },
    {
      "cell_type": "code",
      "metadata": {
        "id": "ScBJNYORnyas",
        "colab_type": "code",
        "colab": {
          "base_uri": "https://localhost:8080/",
          "height": 119
        },
        "outputId": "61403cf3-a54d-406b-8bbb-dcd6f298ffeb"
      },
      "source": [
        "encoding_road_surface_cond = {\"Road_Surface_Conditions\": \n",
        "                            {\"Dry\": 1,\n",
        "                             \"Wet or damp\": 2,\n",
        "                             \"Frost or ice\": 3, \n",
        "                             \"Snow\": 4,\n",
        "                             \"Flood over 3cm. deep\": 5,\n",
        "                             \"Data missing or out of range\": 1 }}\n",
        "df.replace(encoding_road_surface_cond, inplace=True)\n",
        "df['Road_Surface_Conditions'].value_counts()"
      ],
      "execution_count": 26,
      "outputs": [
        {
          "output_type": "execute_result",
          "data": {
            "text/plain": [
              "1.0    84707\n",
              "2.0    34151\n",
              "3.0     1832\n",
              "4.0      650\n",
              "5.0       91\n",
              "Name: Road_Surface_Conditions, dtype: int64"
            ]
          },
          "metadata": {
            "tags": []
          },
          "execution_count": 26
        }
      ]
    },
    {
      "cell_type": "code",
      "metadata": {
        "id": "ofGAtilSn5gZ",
        "colab_type": "code",
        "colab": {
          "base_uri": "https://localhost:8080/",
          "height": 136
        },
        "outputId": "788ca021-da50-4602-9865-a68b291cdfe4"
      },
      "source": [
        "encoding_road_type = {\"Road_Type\": \n",
        "                            {\"Single carriageway\": 1,\n",
        "                             \"Dual carriageway\": 2,\n",
        "                             \"Roundabout\": 3, \n",
        "                             \"One way street\": 4,\n",
        "                             \"Slip road\": 5,\n",
        "                             \"Unknown\": 0,\n",
        "                             \"Data missing or out of range\": 1 }}\n",
        "df.replace(encoding_road_type, inplace=True)\n",
        "df['Road_Type'].value_counts()"
      ],
      "execution_count": 27,
      "outputs": [
        {
          "output_type": "execute_result",
          "data": {
            "text/plain": [
              "1.0    91753\n",
              "2.0    17769\n",
              "3.0     7419\n",
              "4.0     2808\n",
              "5.0     1018\n",
              "0.0      664\n",
              "Name: Road_Type, dtype: int64"
            ]
          },
          "metadata": {
            "tags": []
          },
          "execution_count": 27
        }
      ]
    },
    {
      "cell_type": "code",
      "metadata": {
        "id": "6Z1D5qpCoBeo",
        "colab_type": "code",
        "colab": {
          "base_uri": "https://localhost:8080/",
          "height": 68
        },
        "outputId": "44d8dfda-be57-4834-ca03-af1427c58c57"
      },
      "source": [
        "encoding_urban_rural = {\"Urban_or_Rural_Area\": \n",
        "                            {\"Urban\": 1,\n",
        "                             \"Rural\": 2,\n",
        "                             \"Unallocated\": 1 }}\n",
        "df.replace(encoding_urban_rural, inplace=True)\n",
        "df['Urban_or_Rural_Area'].value_counts()"
      ],
      "execution_count": 28,
      "outputs": [
        {
          "output_type": "execute_result",
          "data": {
            "text/plain": [
              "1.0    86284\n",
              "2.0    35147\n",
              "Name: Urban_or_Rural_Area, dtype: int64"
            ]
          },
          "metadata": {
            "tags": []
          },
          "execution_count": 28
        }
      ]
    },
    {
      "cell_type": "code",
      "metadata": {
        "id": "xYqO1KUJoLL3",
        "colab_type": "code",
        "colab": {
          "base_uri": "https://localhost:8080/",
          "height": 153
        },
        "outputId": "d612105d-6877-4309-b2f8-6b4843b4b060"
      },
      "source": [
        "\n",
        "encoding_weather = {\"Weather_Conditions\": \n",
        "                            {\"Fine no high winds\": 1,\n",
        "                             \"Raining no high winds\": 2,\n",
        "                             \"Raining + high winds\": 3,\n",
        "                             \"Fine + high winds\": 4,\n",
        "                             \"Snowing no high winds\": 5,\n",
        "                             \"Fog or mist\": 6,\n",
        "                             \"Snowing + high winds\": 7,\n",
        "                             \"Unknown\": 1,\n",
        "                             \"Other\": 1,\n",
        "                             \"Data missing or out of range\": 1 }}\n",
        "df.replace(encoding_weather, inplace=True)\n",
        "df['Weather_Conditions'].value_counts()"
      ],
      "execution_count": 29,
      "outputs": [
        {
          "output_type": "execute_result",
          "data": {
            "text/plain": [
              "1.0    103364\n",
              "2.0     13741\n",
              "4.0      1482\n",
              "3.0      1046\n",
              "5.0      1041\n",
              "6.0       618\n",
              "7.0       139\n",
              "Name: Weather_Conditions, dtype: int64"
            ]
          },
          "metadata": {
            "tags": []
          },
          "execution_count": 29
        }
      ]
    },
    {
      "cell_type": "code",
      "metadata": {
        "id": "Qkux3RbrobwT",
        "colab_type": "code",
        "colab": {
          "base_uri": "https://localhost:8080/",
          "height": 34
        },
        "outputId": "de9e2527-1e19-4f08-957a-27925f827025"
      },
      "source": [
        "np.where(np.isnan(df['Speed_limit']))"
      ],
      "execution_count": 30,
      "outputs": [
        {
          "output_type": "execute_result",
          "data": {
            "text/plain": [
              "(array([121431]),)"
            ]
          },
          "metadata": {
            "tags": []
          },
          "execution_count": 30
        }
      ]
    },
    {
      "cell_type": "markdown",
      "metadata": {
        "id": "kZc3-UL02OiM",
        "colab_type": "text"
      },
      "source": [
        "## Data"
      ]
    },
    {
      "cell_type": "code",
      "metadata": {
        "id": "6SJZiLoQohA9",
        "colab_type": "code",
        "colab": {}
      },
      "source": [
        "df['Speed_limit'].fillna((df['Speed_limit'].mean()), inplace=True)"
      ],
      "execution_count": 33,
      "outputs": []
    },
    {
      "cell_type": "code",
      "metadata": {
        "id": "EYF5H24GonUA",
        "colab_type": "code",
        "colab": {}
      },
      "source": [
        "df['Time'].fillna(0, inplace=True)"
      ],
      "execution_count": 34,
      "outputs": []
    },
    {
      "cell_type": "code",
      "metadata": {
        "id": "cC_HQUWQoqxn",
        "colab_type": "code",
        "colab": {}
      },
      "source": [
        "def period(row):\n",
        "    rdf = []\n",
        "    if(type(row) == float):\n",
        "        row = str(row)\n",
        "        rdf = row.split(\".\")\n",
        "    else:\n",
        "        rdf = str(row).split(\":\");\n",
        "        \n",
        "    hr = rdf[0]\n",
        "    if int(hr) > 8 and int(hr) < 20:\n",
        "        return 1;\n",
        "    else:\n",
        "        return 2;"
      ],
      "execution_count": 35,
      "outputs": []
    },
    {
      "cell_type": "code",
      "metadata": {
        "id": "F3ZyQc6Xo0A9",
        "colab_type": "code",
        "colab": {}
      },
      "source": [
        "df['Time'] = df['Time'].apply(period)"
      ],
      "execution_count": 36,
      "outputs": []
    },
    {
      "cell_type": "code",
      "metadata": {
        "id": "RyWCqEV_o7Kz",
        "colab_type": "code",
        "colab": {}
      },
      "source": [
        "df_train1 = df[['1st_Road_Class','Carriageway_Hazards','Junction_Control','Day_of_Week','Junction_Detail','Light_Conditions','Road_Surface_Conditions','Road_Type','Special_Conditions_at_Site','Speed_limit','Time','Urban_or_Rural_Area','Weather_Conditions','Accident_Severity']]"
      ],
      "execution_count": 37,
      "outputs": []
    },
    {
      "cell_type": "code",
      "metadata": {
        "id": "u_tZOPxko_Gb",
        "colab_type": "code",
        "colab": {}
      },
      "source": [
        "df_slight = df_train1[df_train1['Accident_Severity']=='Slight']"
      ],
      "execution_count": 38,
      "outputs": []
    },
    {
      "cell_type": "code",
      "metadata": {
        "id": "fVnQiJ_cw0No",
        "colab_type": "code",
        "colab": {}
      },
      "source": [
        "df_serious = df_train1[df_train1['Accident_Severity']=='Serious']"
      ],
      "execution_count": 41,
      "outputs": []
    },
    {
      "cell_type": "code",
      "metadata": {
        "id": "OH3DzP7Jw39c",
        "colab_type": "code",
        "colab": {}
      },
      "source": [
        "df_fatal = df_train1[df_train1['Accident_Severity']=='Fatal']"
      ],
      "execution_count": 40,
      "outputs": []
    },
    {
      "cell_type": "code",
      "metadata": {
        "id": "9XLFxnQlw-gL",
        "colab_type": "code",
        "colab": {
          "base_uri": "https://localhost:8080/",
          "height": 51
        },
        "outputId": "c34e7b88-2f72-4af4-a5b1-80f4439cf10e"
      },
      "source": [
        "df_serious['Accident_Severity'].value_counts()"
      ],
      "execution_count": 42,
      "outputs": [
        {
          "output_type": "execute_result",
          "data": {
            "text/plain": [
              "Serious    15416\n",
              "Name: Accident_Severity, dtype: int64"
            ]
          },
          "metadata": {
            "tags": []
          },
          "execution_count": 42
        }
      ]
    },
    {
      "cell_type": "code",
      "metadata": {
        "id": "AjIK-bsExDcA",
        "colab_type": "code",
        "colab": {
          "base_uri": "https://localhost:8080/",
          "height": 162
        },
        "outputId": "828ddd03-34e8-4cb6-d450-f66e2020c227"
      },
      "source": [
        "random_subset = df_slight.sample(n=3)\n",
        "random_subset.head()"
      ],
      "execution_count": 43,
      "outputs": [
        {
          "output_type": "execute_result",
          "data": {
            "text/html": [
              "<div>\n",
              "<style scoped>\n",
              "    .dataframe tbody tr th:only-of-type {\n",
              "        vertical-align: middle;\n",
              "    }\n",
              "\n",
              "    .dataframe tbody tr th {\n",
              "        vertical-align: top;\n",
              "    }\n",
              "\n",
              "    .dataframe thead th {\n",
              "        text-align: right;\n",
              "    }\n",
              "</style>\n",
              "<table border=\"1\" class=\"dataframe\">\n",
              "  <thead>\n",
              "    <tr style=\"text-align: right;\">\n",
              "      <th></th>\n",
              "      <th>1st_Road_Class</th>\n",
              "      <th>Carriageway_Hazards</th>\n",
              "      <th>Junction_Control</th>\n",
              "      <th>Day_of_Week</th>\n",
              "      <th>Junction_Detail</th>\n",
              "      <th>Light_Conditions</th>\n",
              "      <th>Road_Surface_Conditions</th>\n",
              "      <th>Road_Type</th>\n",
              "      <th>Special_Conditions_at_Site</th>\n",
              "      <th>Speed_limit</th>\n",
              "      <th>Time</th>\n",
              "      <th>Urban_or_Rural_Area</th>\n",
              "      <th>Weather_Conditions</th>\n",
              "      <th>Accident_Severity</th>\n",
              "    </tr>\n",
              "  </thead>\n",
              "  <tbody>\n",
              "    <tr>\n",
              "      <th>41155</th>\n",
              "      <td>1</td>\n",
              "      <td>0</td>\n",
              "      <td>2</td>\n",
              "      <td>0</td>\n",
              "      <td>3</td>\n",
              "      <td>1</td>\n",
              "      <td>2.0</td>\n",
              "      <td>2.0</td>\n",
              "      <td>0.0</td>\n",
              "      <td>40.0</td>\n",
              "      <td>2</td>\n",
              "      <td>1.0</td>\n",
              "      <td>2.0</td>\n",
              "      <td>Slight</td>\n",
              "    </tr>\n",
              "    <tr>\n",
              "      <th>95202</th>\n",
              "      <td>3</td>\n",
              "      <td>0</td>\n",
              "      <td>1</td>\n",
              "      <td>0</td>\n",
              "      <td>1</td>\n",
              "      <td>1</td>\n",
              "      <td>1.0</td>\n",
              "      <td>1.0</td>\n",
              "      <td>0.0</td>\n",
              "      <td>60.0</td>\n",
              "      <td>2</td>\n",
              "      <td>2.0</td>\n",
              "      <td>1.0</td>\n",
              "      <td>Slight</td>\n",
              "    </tr>\n",
              "    <tr>\n",
              "      <th>120591</th>\n",
              "      <td>2</td>\n",
              "      <td>0</td>\n",
              "      <td>3</td>\n",
              "      <td>0</td>\n",
              "      <td>1</td>\n",
              "      <td>0</td>\n",
              "      <td>2.0</td>\n",
              "      <td>1.0</td>\n",
              "      <td>0.0</td>\n",
              "      <td>60.0</td>\n",
              "      <td>2</td>\n",
              "      <td>2.0</td>\n",
              "      <td>1.0</td>\n",
              "      <td>Slight</td>\n",
              "    </tr>\n",
              "  </tbody>\n",
              "</table>\n",
              "</div>"
            ],
            "text/plain": [
              "        1st_Road_Class  ...  Accident_Severity\n",
              "41155                1  ...             Slight\n",
              "95202                3  ...             Slight\n",
              "120591               2  ...             Slight\n",
              "\n",
              "[3 rows x 14 columns]"
            ]
          },
          "metadata": {
            "tags": []
          },
          "execution_count": 43
        }
      ]
    },
    {
      "cell_type": "code",
      "metadata": {
        "id": "4JEktfBgxIAw",
        "colab_type": "code",
        "colab": {
          "base_uri": "https://localhost:8080/",
          "height": 51
        },
        "outputId": "550f0704-eb8e-4ba3-fcf6-02944f115626"
      },
      "source": [
        "df_fatal['Accident_Severity'].value_counts()"
      ],
      "execution_count": 44,
      "outputs": [
        {
          "output_type": "execute_result",
          "data": {
            "text/plain": [
              "Fatal    1629\n",
              "Name: Accident_Severity, dtype: int64"
            ]
          },
          "metadata": {
            "tags": []
          },
          "execution_count": 44
        }
      ]
    },
    {
      "cell_type": "code",
      "metadata": {
        "id": "nr-nzhCwxNhx",
        "colab_type": "code",
        "colab": {}
      },
      "source": [
        "\n",
        "df_slight_sampling = df_slight.sample(n=45000)  #Matched the combined number of records for Fatal and Serious(As we are going to club fatal&serious to Serious)"
      ],
      "execution_count": 45,
      "outputs": []
    },
    {
      "cell_type": "code",
      "metadata": {
        "id": "nHwjk8xhxRh7",
        "colab_type": "code",
        "colab": {}
      },
      "source": [
        "\n",
        "df_serious_sampling = df_serious.sample(n=1629)"
      ],
      "execution_count": 46,
      "outputs": []
    },
    {
      "cell_type": "code",
      "metadata": {
        "id": "HxWRrodPxbEm",
        "colab_type": "code",
        "colab": {}
      },
      "source": [
        "df_final_sampling = pd.concat([df_serious_sampling,df_slight_sampling,df_fatal])"
      ],
      "execution_count": 47,
      "outputs": []
    },
    {
      "cell_type": "code",
      "metadata": {
        "id": "1dReZlf0xfXK",
        "colab_type": "code",
        "colab": {
          "base_uri": "https://localhost:8080/",
          "height": 224
        },
        "outputId": "d540f818-89f0-4190-9e35-558270c7e301"
      },
      "source": [
        "df_final_sampling.head()"
      ],
      "execution_count": 48,
      "outputs": [
        {
          "output_type": "execute_result",
          "data": {
            "text/html": [
              "<div>\n",
              "<style scoped>\n",
              "    .dataframe tbody tr th:only-of-type {\n",
              "        vertical-align: middle;\n",
              "    }\n",
              "\n",
              "    .dataframe tbody tr th {\n",
              "        vertical-align: top;\n",
              "    }\n",
              "\n",
              "    .dataframe thead th {\n",
              "        text-align: right;\n",
              "    }\n",
              "</style>\n",
              "<table border=\"1\" class=\"dataframe\">\n",
              "  <thead>\n",
              "    <tr style=\"text-align: right;\">\n",
              "      <th></th>\n",
              "      <th>1st_Road_Class</th>\n",
              "      <th>Carriageway_Hazards</th>\n",
              "      <th>Junction_Control</th>\n",
              "      <th>Day_of_Week</th>\n",
              "      <th>Junction_Detail</th>\n",
              "      <th>Light_Conditions</th>\n",
              "      <th>Road_Surface_Conditions</th>\n",
              "      <th>Road_Type</th>\n",
              "      <th>Special_Conditions_at_Site</th>\n",
              "      <th>Speed_limit</th>\n",
              "      <th>Time</th>\n",
              "      <th>Urban_or_Rural_Area</th>\n",
              "      <th>Weather_Conditions</th>\n",
              "      <th>Accident_Severity</th>\n",
              "    </tr>\n",
              "  </thead>\n",
              "  <tbody>\n",
              "    <tr>\n",
              "      <th>105222</th>\n",
              "      <td>3</td>\n",
              "      <td>0</td>\n",
              "      <td>1</td>\n",
              "      <td>0</td>\n",
              "      <td>1</td>\n",
              "      <td>0</td>\n",
              "      <td>1.0</td>\n",
              "      <td>1.0</td>\n",
              "      <td>0.0</td>\n",
              "      <td>60.0</td>\n",
              "      <td>1</td>\n",
              "      <td>2.0</td>\n",
              "      <td>1.0</td>\n",
              "      <td>Serious</td>\n",
              "    </tr>\n",
              "    <tr>\n",
              "      <th>69388</th>\n",
              "      <td>1</td>\n",
              "      <td>0</td>\n",
              "      <td>1</td>\n",
              "      <td>0</td>\n",
              "      <td>8</td>\n",
              "      <td>1</td>\n",
              "      <td>1.0</td>\n",
              "      <td>1.0</td>\n",
              "      <td>0.0</td>\n",
              "      <td>30.0</td>\n",
              "      <td>2</td>\n",
              "      <td>1.0</td>\n",
              "      <td>1.0</td>\n",
              "      <td>Serious</td>\n",
              "    </tr>\n",
              "    <tr>\n",
              "      <th>18973</th>\n",
              "      <td>1</td>\n",
              "      <td>0</td>\n",
              "      <td>1</td>\n",
              "      <td>0</td>\n",
              "      <td>2</td>\n",
              "      <td>1</td>\n",
              "      <td>1.0</td>\n",
              "      <td>1.0</td>\n",
              "      <td>0.0</td>\n",
              "      <td>30.0</td>\n",
              "      <td>2</td>\n",
              "      <td>1.0</td>\n",
              "      <td>1.0</td>\n",
              "      <td>Serious</td>\n",
              "    </tr>\n",
              "    <tr>\n",
              "      <th>119078</th>\n",
              "      <td>1</td>\n",
              "      <td>0</td>\n",
              "      <td>1</td>\n",
              "      <td>0</td>\n",
              "      <td>4</td>\n",
              "      <td>1</td>\n",
              "      <td>1.0</td>\n",
              "      <td>3.0</td>\n",
              "      <td>0.0</td>\n",
              "      <td>30.0</td>\n",
              "      <td>2</td>\n",
              "      <td>1.0</td>\n",
              "      <td>1.0</td>\n",
              "      <td>Serious</td>\n",
              "    </tr>\n",
              "    <tr>\n",
              "      <th>112084</th>\n",
              "      <td>3</td>\n",
              "      <td>0</td>\n",
              "      <td>1</td>\n",
              "      <td>0</td>\n",
              "      <td>1</td>\n",
              "      <td>0</td>\n",
              "      <td>1.0</td>\n",
              "      <td>1.0</td>\n",
              "      <td>0.0</td>\n",
              "      <td>60.0</td>\n",
              "      <td>1</td>\n",
              "      <td>2.0</td>\n",
              "      <td>1.0</td>\n",
              "      <td>Serious</td>\n",
              "    </tr>\n",
              "  </tbody>\n",
              "</table>\n",
              "</div>"
            ],
            "text/plain": [
              "        1st_Road_Class  ...  Accident_Severity\n",
              "105222               3  ...            Serious\n",
              "69388                1  ...            Serious\n",
              "18973                1  ...            Serious\n",
              "119078               1  ...            Serious\n",
              "112084               3  ...            Serious\n",
              "\n",
              "[5 rows x 14 columns]"
            ]
          },
          "metadata": {
            "tags": []
          },
          "execution_count": 48
        }
      ]
    },
    {
      "cell_type": "code",
      "metadata": {
        "id": "-ZILo8mOxj9X",
        "colab_type": "code",
        "colab": {}
      },
      "source": [
        "\n",
        "df_test = df_final_sampling[['Accident_Severity']]"
      ],
      "execution_count": 49,
      "outputs": []
    },
    {
      "cell_type": "code",
      "metadata": {
        "id": "4Gwo8YsOxopD",
        "colab_type": "code",
        "colab": {}
      },
      "source": [
        "\n",
        "#replacing 'Data missing or out of range' with most occured value 'None'\n",
        "df_test['Accident_Severity'] = df_test['Accident_Severity'].replace(['Fatal'], 'Serious')"
      ],
      "execution_count": 50,
      "outputs": []
    },
    {
      "cell_type": "code",
      "metadata": {
        "id": "6-xnI5MIxuJa",
        "colab_type": "code",
        "colab": {}
      },
      "source": [
        "df_train = df_final_sampling[['1st_Road_Class','Carriageway_Hazards','Junction_Control','Day_of_Week','Junction_Detail','Light_Conditions','Road_Surface_Conditions','Road_Type','Special_Conditions_at_Site','Speed_limit','Time','Urban_or_Rural_Area','Weather_Conditions']]"
      ],
      "execution_count": 51,
      "outputs": []
    },
    {
      "cell_type": "code",
      "metadata": {
        "id": "38W1GnB2x07V",
        "colab_type": "code",
        "colab": {
          "base_uri": "https://localhost:8080/",
          "height": 68
        },
        "outputId": "ed233bb3-86b6-4e4e-804d-9b8de02574aa"
      },
      "source": [
        "df_test['Accident_Severity'].value_counts()"
      ],
      "execution_count": 52,
      "outputs": [
        {
          "output_type": "execute_result",
          "data": {
            "text/plain": [
              "Slight     45000\n",
              "Serious     3258\n",
              "Name: Accident_Severity, dtype: int64"
            ]
          },
          "metadata": {
            "tags": []
          },
          "execution_count": 52
        }
      ]
    },
    {
      "cell_type": "markdown",
      "metadata": {
        "id": "LzXnPH2U2UVK",
        "colab_type": "text"
      },
      "source": [
        "## **Methodology** **and** **Analysis**"
      ]
    },
    {
      "cell_type": "markdown",
      "metadata": {
        "id": "Ybn8EF022dSz",
        "colab_type": "text"
      },
      "source": [
        "Our data is now ready to be fed into machine learning models.\n",
        "we will use the following algorithms:\n",
        "1. K-Nearest Neighbor (KNN)\n",
        "2. Decision Tree\n",
        "3. Logistic Regression\n",
        "4. RandomForest Classifier\n",
        "5. XGBClassifier\n",
        "\n"
      ]
    },
    {
      "cell_type": "code",
      "metadata": {
        "id": "mcgmUaWFx5Yo",
        "colab_type": "code",
        "colab": {}
      },
      "source": [
        "\n",
        "from sklearn.model_selection import train_test_split\n",
        "X_train, X_test, y_train, y_test = train_test_split(df_train, df_test, test_size=0.2)"
      ],
      "execution_count": 53,
      "outputs": []
    },
    {
      "cell_type": "code",
      "metadata": {
        "id": "ul9nw4GzyADD",
        "colab_type": "code",
        "colab": {
          "base_uri": "https://localhost:8080/",
          "height": 221
        },
        "outputId": "bde0995d-1ce4-4f8b-c23d-3b3d406a2ab4"
      },
      "source": [
        "from sklearn.ensemble import RandomForestClassifier\n",
        "#class_weight = dict({2:1, 1:15, 0:50})\n",
        "rdf = RandomForestClassifier(n_estimators=300,random_state=35)\n",
        "\n",
        "rdf.fit(X_train,y_train)\n",
        "\n",
        "y_pred=rdf.predict(X_test)\n",
        "\n",
        "#Import scikit-learn metrics module for accuracy calculation\n",
        "from sklearn import metrics\n",
        "# Model Accuracy, how often is the classifier correct?\n",
        "print(\"Accuracy:\",metrics.accuracy_score(y_test, y_pred))\n",
        "\n",
        "from sklearn import metrics\n",
        "from sklearn.metrics import classification_report, confusion_matrix  \n",
        "print(confusion_matrix(y_test, y_pred))  \n",
        "print(classification_report(y_test, y_pred))"
      ],
      "execution_count": 54,
      "outputs": [
        {
          "output_type": "stream",
          "text": [
            "Accuracy: 0.9259220886862827\n",
            "[[   6  671]\n",
            " [  44 8931]]\n",
            "              precision    recall  f1-score   support\n",
            "\n",
            "     Serious       0.12      0.01      0.02       677\n",
            "      Slight       0.93      1.00      0.96      8975\n",
            "\n",
            "    accuracy                           0.93      9652\n",
            "   macro avg       0.53      0.50      0.49      9652\n",
            "weighted avg       0.87      0.93      0.90      9652\n",
            "\n"
          ],
          "name": "stdout"
        }
      ]
    },
    {
      "cell_type": "code",
      "metadata": {
        "id": "-SM3_OMyyGCV",
        "colab_type": "code",
        "colab": {}
      },
      "source": [
        "from sklearn.ensemble import RandomForestClassifier\n",
        "#class_weight = dict({2:1, 1:15, 0:50})\n",
        "rdf = RandomForestClassifier(bootstrap=True,\n",
        "            class_weight=\"balanced_subsample\", \n",
        "            criterion='gini',\n",
        "            max_depth=8, max_features='auto', max_leaf_nodes=None,\n",
        "            min_impurity_decrease=0.0, min_impurity_split=None,\n",
        "            min_samples_leaf=4, min_samples_split=10,\n",
        "            min_weight_fraction_leaf=0.0, n_estimators=300,\n",
        "            oob_score=True,\n",
        "            random_state=35,\n",
        "            verbose=0, warm_start=False)"
      ],
      "execution_count": 55,
      "outputs": []
    },
    {
      "cell_type": "code",
      "metadata": {
        "id": "Qv7HEQewyPZ6",
        "colab_type": "code",
        "colab": {}
      },
      "source": [
        "rdf.fit(X_train,y_train)\n",
        "\n",
        "y_pred=rdf.predict(X_test)"
      ],
      "execution_count": 56,
      "outputs": []
    },
    {
      "cell_type": "code",
      "metadata": {
        "id": "PP7RPc70yTET",
        "colab_type": "code",
        "colab": {
          "base_uri": "https://localhost:8080/",
          "height": 34
        },
        "outputId": "48af9c1f-fdda-40f2-dd0f-e77d1698c28d"
      },
      "source": [
        "\n",
        "#Import scikit-learn metrics module for accuracy calculation\n",
        "from sklearn import metrics\n",
        "# Model Accuracy, how often is the classifier correct?\n",
        "print(\"Accuracy:\",metrics.accuracy_score(y_test, y_pred))"
      ],
      "execution_count": 57,
      "outputs": [
        {
          "output_type": "stream",
          "text": [
            "Accuracy: 0.7232697886448405\n"
          ],
          "name": "stdout"
        }
      ]
    },
    {
      "cell_type": "code",
      "metadata": {
        "id": "GNdOxRlvyZva",
        "colab_type": "code",
        "colab": {
          "base_uri": "https://localhost:8080/",
          "height": 204
        },
        "outputId": "db5c3bb7-bb93-49f6-dac6-93794419183e"
      },
      "source": [
        "from sklearn import metrics\n",
        "from sklearn.metrics import classification_report, confusion_matrix  \n",
        "print(confusion_matrix(y_test, y_pred))  \n",
        "print(classification_report(y_test, y_pred))"
      ],
      "execution_count": 58,
      "outputs": [
        {
          "output_type": "stream",
          "text": [
            "[[ 349  328]\n",
            " [2343 6632]]\n",
            "              precision    recall  f1-score   support\n",
            "\n",
            "     Serious       0.13      0.52      0.21       677\n",
            "      Slight       0.95      0.74      0.83      8975\n",
            "\n",
            "    accuracy                           0.72      9652\n",
            "   macro avg       0.54      0.63      0.52      9652\n",
            "weighted avg       0.90      0.72      0.79      9652\n",
            "\n"
          ],
          "name": "stdout"
        }
      ]
    },
    {
      "cell_type": "code",
      "metadata": {
        "id": "-Jx34whqyea5",
        "colab_type": "code",
        "colab": {
          "base_uri": "https://localhost:8080/",
          "height": 34
        },
        "outputId": "5479300f-afb8-4a99-e76a-26e28e969574"
      },
      "source": [
        "from xgboost import XGBClassifier\n",
        "model = XGBClassifier(learning_rate =0.07, n_estimators=300,\n",
        "                      class_weight=\"balanced_subsample\",\n",
        "                      max_depth=8, min_child_weight=1,\n",
        "                      scale_pos_weight=7,\n",
        "                      seed=27,subsample=0.8,colsample_bytree=0.8)\n",
        "\n",
        "model.fit(X_train,y_train)\n",
        "\n",
        "y_pred=model.predict(X_test)\n",
        "\n",
        "print(\"Accuracy:\",metrics.accuracy_score(y_test, y_pred))"
      ],
      "execution_count": 59,
      "outputs": [
        {
          "output_type": "stream",
          "text": [
            "Accuracy: 0.9298590965602984\n"
          ],
          "name": "stdout"
        }
      ]
    },
    {
      "cell_type": "code",
      "metadata": {
        "id": "5zRirh31ymyu",
        "colab_type": "code",
        "colab": {
          "base_uri": "https://localhost:8080/",
          "height": 204
        },
        "outputId": "ed0d66ef-7dcc-4727-a11b-8c4f7a2fb3b7"
      },
      "source": [
        "print(confusion_matrix(y_test, y_pred))  \n",
        "print(classification_report(y_test, y_pred))"
      ],
      "execution_count": 60,
      "outputs": [
        {
          "output_type": "stream",
          "text": [
            "[[   0  677]\n",
            " [   0 8975]]\n",
            "              precision    recall  f1-score   support\n",
            "\n",
            "     Serious       0.00      0.00      0.00       677\n",
            "      Slight       0.93      1.00      0.96      8975\n",
            "\n",
            "    accuracy                           0.93      9652\n",
            "   macro avg       0.46      0.50      0.48      9652\n",
            "weighted avg       0.86      0.93      0.90      9652\n",
            "\n"
          ],
          "name": "stdout"
        }
      ]
    },
    {
      "cell_type": "code",
      "metadata": {
        "id": "ij-MJgttyuzq",
        "colab_type": "code",
        "colab": {
          "base_uri": "https://localhost:8080/",
          "height": 204
        },
        "outputId": "ad9c6e9b-297a-4ec8-b9e4-0f8b538048b5"
      },
      "source": [
        "# import the class\n",
        "from sklearn.neighbors import KNeighborsClassifier\n",
        "\n",
        "# instantiate the model (with the default parameters)\n",
        "knn = KNeighborsClassifier(n_neighbors=3,weights='distance')\n",
        "\n",
        "# fit the model with data (occurs in-place)\n",
        "knn.fit(X_train, y_train)\n",
        "\n",
        "y_pred = knn.predict(X_test)\n",
        "\n",
        "print(confusion_matrix(y_test, y_pred))  \n",
        "print(classification_report(y_test, y_pred))"
      ],
      "execution_count": 61,
      "outputs": [
        {
          "output_type": "stream",
          "text": [
            "[[  32  645]\n",
            " [ 182 8793]]\n",
            "              precision    recall  f1-score   support\n",
            "\n",
            "     Serious       0.15      0.05      0.07       677\n",
            "      Slight       0.93      0.98      0.96      8975\n",
            "\n",
            "    accuracy                           0.91      9652\n",
            "   macro avg       0.54      0.51      0.51      9652\n",
            "weighted avg       0.88      0.91      0.89      9652\n",
            "\n"
          ],
          "name": "stdout"
        }
      ]
    },
    {
      "cell_type": "code",
      "metadata": {
        "id": "hvGzjBvizFDL",
        "colab_type": "code",
        "colab": {
          "base_uri": "https://localhost:8080/",
          "height": 204
        },
        "outputId": "414ba232-4e4e-4d75-8b1b-59284e734905"
      },
      "source": [
        "from sklearn.linear_model import LogisticRegression\n",
        "logisticRegr = LogisticRegression()\n",
        "logisticRegr.fit(X_train, y_train)\n",
        "y_pred = logisticRegr.predict(X_test)\n",
        "print(confusion_matrix(y_test, y_pred))  \n",
        "print(classification_report(y_test, y_pred))"
      ],
      "execution_count": 62,
      "outputs": [
        {
          "output_type": "stream",
          "text": [
            "[[   0  677]\n",
            " [   0 8975]]\n",
            "              precision    recall  f1-score   support\n",
            "\n",
            "     Serious       0.00      0.00      0.00       677\n",
            "      Slight       0.93      1.00      0.96      8975\n",
            "\n",
            "    accuracy                           0.93      9652\n",
            "   macro avg       0.46      0.50      0.48      9652\n",
            "weighted avg       0.86      0.93      0.90      9652\n",
            "\n"
          ],
          "name": "stdout"
        }
      ]
    },
    {
      "cell_type": "code",
      "metadata": {
        "id": "hT3f0th3zLXP",
        "colab_type": "code",
        "colab": {
          "base_uri": "https://localhost:8080/",
          "height": 187
        },
        "outputId": "60880063-dec0-4594-ab72-a3152fa604b4"
      },
      "source": [
        "from sklearn.naive_bayes import GaussianNB\n",
        "from sklearn.metrics import accuracy_score\n",
        "gnb = GaussianNB()\n",
        "y_pred = gnb.fit(X_train, y_train).predict(X_test)\n",
        "print(accuracy_score(y_test, y_pred))\n",
        "confusion_matrix(y_test, y_pred)\n",
        "print(format(classification_report(y_test, y_pred)))"
      ],
      "execution_count": 63,
      "outputs": [
        {
          "output_type": "stream",
          "text": [
            "0.9000207210940737\n",
            "              precision    recall  f1-score   support\n",
            "\n",
            "     Serious       0.19      0.13      0.15       677\n",
            "      Slight       0.94      0.96      0.95      8975\n",
            "\n",
            "    accuracy                           0.90      9652\n",
            "   macro avg       0.56      0.54      0.55      9652\n",
            "weighted avg       0.88      0.90      0.89      9652\n",
            "\n"
          ],
          "name": "stdout"
        }
      ]
    },
    {
      "cell_type": "code",
      "metadata": {
        "id": "MUSL363dzTUy",
        "colab_type": "code",
        "colab": {
          "base_uri": "https://localhost:8080/",
          "height": 187
        },
        "outputId": "f5f771df-a2fb-4683-bb13-492d91d2a914"
      },
      "source": [
        "from sklearn.ensemble import GradientBoostingClassifier\n",
        "gbc = GradientBoostingClassifier(loss=\"deviance\", learning_rate=0.1, \n",
        "      n_estimators=100, subsample=1.0, criterion=\"friedman_mse\", \n",
        "      min_samples_split=2, min_samples_leaf=1, min_weight_fraction_leaf=0.0, \n",
        "      max_depth=3, min_impurity_decrease=0.0, min_impurity_split=None, init=None, \n",
        "      random_state=None, max_features=None, verbose=0, max_leaf_nodes=None, warm_start=False, \n",
        "      presort=\"auto\")\n",
        "\n",
        "y_pred = gbc.fit(X_train, y_train.values.ravel()).predict(X_test)\n",
        "print(format(classification_report(y_test, y_pred)))\n",
        "print(accuracy_score(y_test, y_pred))"
      ],
      "execution_count": 64,
      "outputs": [
        {
          "output_type": "stream",
          "text": [
            "              precision    recall  f1-score   support\n",
            "\n",
            "     Serious       0.00      0.00      0.00       677\n",
            "      Slight       0.93      1.00      0.96      8975\n",
            "\n",
            "    accuracy                           0.93      9652\n",
            "   macro avg       0.46      0.50      0.48      9652\n",
            "weighted avg       0.86      0.93      0.90      9652\n",
            "\n",
            "0.9296518856195607\n"
          ],
          "name": "stdout"
        }
      ]
    },
    {
      "cell_type": "markdown",
      "metadata": {
        "id": "UmbuXdN03WC0",
        "colab_type": "text"
      },
      "source": [
        "## **Discussion**\n",
        "\n",
        "In the beginning of this notebook, we had categorical data that was of type 'object'. This is not a data type that we could have fed through an algoritim, so label encoding was used to created new classes that were of type int8; a numerical data type.\n",
        "\n",
        "After solving that issue we were presented with another - imbalanced data. As mentioned earlier, class 1 was nearly three times larger than class 2. The solution to this was downsampling the majority class with sklearn's resample tool. We downsampled to match the minority class exactly with 58188 values each.\n",
        "\n",
        "Once we analyzed and cleaned the data, it was then fed through three ML models; K-Nearest Neighbor, Decision Tree and Logistic Regression. Although the first two are ideal for this project, logistic regression made most sense because of its binary nature.\n",
        "\n",
        "Evaluation metrics used to test the accuracy of our models were jaccard index, f-1 score and logloss for logistic regression. Choosing different k, max depth and hyparameter C values helped to improve our accuracy to be the best possible.\n",
        "```\n",
        "\n"
      ]
    },
    {
      "cell_type": "markdown",
      "metadata": {
        "id": "wqlirlHR3rC_",
        "colab_type": "text"
      },
      "source": [
        "## **Conclusion**\n",
        "\n",
        "Based on historical data from weather conditions pointing to certain classes, we can conclude that particular weather conditions have a somewhat impact on whether or not travel could result in property damage (class 1) or injury (class 2)."
      ]
    },
    {
      "cell_type": "code",
      "metadata": {
        "id": "jyMDx172zYLY",
        "colab_type": "code",
        "colab": {}
      },
      "source": [
        ""
      ],
      "execution_count": null,
      "outputs": []
    }
  ]
}